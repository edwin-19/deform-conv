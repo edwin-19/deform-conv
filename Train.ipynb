{
 "cells": [
  {
   "cell_type": "code",
   "execution_count": 9,
   "metadata": {},
   "outputs": [],
   "source": [
    "from __future__ import division\n",
    "\n",
    "import numpy as np \n",
    "import tensorflow as tf\n",
    "import keras.backend as K\n",
    "from keras.models import Model\n",
    "from keras.losses import categorical_crossentropy\n",
    "from keras.optimizers import Adam, SGD\n",
    "from deform_conv.layers import ConvOffset2D\n",
    "from deform_conv.callbacks import TensorBoard\n",
    "from deform_conv.cnn import get_cnn, get_deform_cnn\n",
    "from deform_conv.mnist import get_gen\n",
    "\n",
    "from matplotlib import pyplot as plt\n",
    "import os"
   ]
  },
  {
   "cell_type": "code",
   "execution_count": 2,
   "metadata": {},
   "outputs": [],
   "source": [
    "# Tensorflow config \n",
    "config = tf.ConfigProto()\n",
    "config.gpu_options.allow_growth = True\n",
    "sess = tf.Session(config=config)\n",
    "K.set_session(sess)"
   ]
  },
  {
   "cell_type": "code",
   "execution_count": 3,
   "metadata": {},
   "outputs": [],
   "source": [
    "# ---\n",
    "# Config\n",
    "batch_size = 32\n",
    "n_train = 60000\n",
    "n_test = 10000\n",
    "steps_per_epoch = int(np.ceil(n_train / batch_size))\n",
    "validation_steps = int(np.ceil(n_test/ batch_size))"
   ]
  },
  {
   "cell_type": "code",
   "execution_count": 4,
   "metadata": {
    "scrolled": true
   },
   "outputs": [],
   "source": [
    "train_gen = get_gen(\n",
    "    'train', batch_size=batch_size,\n",
    "    scale=(1.0, 1.0), translate=0.0,\n",
    "    shuffle=True\n",
    ")\n",
    "\n",
    "test_gen = get_gen(\n",
    "    'test', batch_size=batch_size,\n",
    "    scale=(1.0, 1.0), translate=0.0,\n",
    "    shuffle=False\n",
    ")\n",
    "\n",
    "train_scaled_gen = get_gen(\n",
    "    'train', batch_size=batch_size,\n",
    "    scale=(1.0, 2.5), translate=0.2,\n",
    "    shuffle=True\n",
    ")\n",
    "\n",
    "test_scaled_gen = get_gen(\n",
    "    'test', batch_size=batch_size,\n",
    "    scale=(1.0, 2.5), translate=0.2,\n",
    "    shuffle=False\n",
    ")"
   ]
  },
  {
   "cell_type": "markdown",
   "metadata": {},
   "source": [
    "# Normal CNN"
   ]
  },
  {
   "cell_type": "code",
   "execution_count": 5,
   "metadata": {},
   "outputs": [
    {
     "name": "stdout",
     "output_type": "stream",
     "text": [
      "WARNING:tensorflow:From /home/wise/.conda/envs/py36tf13/lib/python3.6/site-packages/tensorflow/python/framework/op_def_library.py:263: colocate_with (from tensorflow.python.framework.ops) is deprecated and will be removed in a future version.\n",
      "Instructions for updating:\n",
      "Colocations handled automatically by placer.\n"
     ]
    }
   ],
   "source": [
    "inputs, outputs = get_cnn()\n",
    "model = Model(inputs=inputs, outputs=outputs)"
   ]
  },
  {
   "cell_type": "code",
   "execution_count": 6,
   "metadata": {
    "scrolled": true
   },
   "outputs": [
    {
     "name": "stdout",
     "output_type": "stream",
     "text": [
      "_________________________________________________________________\n",
      "Layer (type)                 Output Shape              Param #   \n",
      "=================================================================\n",
      "input (InputLayer)           (None, 28, 28, 1)         0         \n",
      "_________________________________________________________________\n",
      "conv11 (Conv2D)              (None, 28, 28, 32)        320       \n",
      "_________________________________________________________________\n",
      "conv11_relu (Activation)     (None, 28, 28, 32)        0         \n",
      "_________________________________________________________________\n",
      "conv11_bn (BatchNormalizatio (None, 28, 28, 32)        128       \n",
      "_________________________________________________________________\n",
      "conv12 (Conv2D)              (None, 14, 14, 64)        18496     \n",
      "_________________________________________________________________\n",
      "conv12_relu (Activation)     (None, 14, 14, 64)        0         \n",
      "_________________________________________________________________\n",
      "conv12_bn (BatchNormalizatio (None, 14, 14, 64)        256       \n",
      "_________________________________________________________________\n",
      "conv21 (Conv2D)              (None, 14, 14, 128)       73856     \n",
      "_________________________________________________________________\n",
      "conv21_relu (Activation)     (None, 14, 14, 128)       0         \n",
      "_________________________________________________________________\n",
      "conv21_bn (BatchNormalizatio (None, 14, 14, 128)       512       \n",
      "_________________________________________________________________\n",
      "conv22 (Conv2D)              (None, 7, 7, 128)         147584    \n",
      "_________________________________________________________________\n",
      "conv22_relu (Activation)     (None, 7, 7, 128)         0         \n",
      "_________________________________________________________________\n",
      "conv22_bn (BatchNormalizatio (None, 7, 7, 128)         512       \n",
      "_________________________________________________________________\n",
      "avg_pool (GlobalAveragePooli (None, 128)               0         \n",
      "_________________________________________________________________\n",
      "fc1 (Dense)                  (None, 10)                1290      \n",
      "_________________________________________________________________\n",
      "out (Activation)             (None, 10)                0         \n",
      "=================================================================\n",
      "Total params: 242,954\n",
      "Trainable params: 242,250\n",
      "Non-trainable params: 704\n",
      "_________________________________________________________________\n"
     ]
    }
   ],
   "source": [
    "model.summary()"
   ]
  },
  {
   "cell_type": "code",
   "execution_count": 7,
   "metadata": {},
   "outputs": [],
   "source": [
    "optim = Adam(1e-3)\n",
    "loss = categorical_crossentropy\n",
    "model.compile(optim, loss, metrics=['accuracy'])"
   ]
  },
  {
   "cell_type": "code",
   "execution_count": 8,
   "metadata": {
    "scrolled": true
   },
   "outputs": [
    {
     "name": "stdout",
     "output_type": "stream",
     "text": [
      "WARNING:tensorflow:From /home/wise/.conda/envs/py36tf13/lib/python3.6/site-packages/tensorflow/python/ops/math_ops.py:3066: to_int32 (from tensorflow.python.ops.math_ops) is deprecated and will be removed in a future version.\n",
      "Instructions for updating:\n",
      "Use tf.cast instead.\n",
      "Epoch 1/10\n",
      "1875/1875 [==============================] - 18s 10ms/step - loss: 0.1557 - acc: 0.9598 - val_loss: 0.0791 - val_acc: 0.9746\n",
      "Epoch 2/10\n",
      "1875/1875 [==============================] - 17s 9ms/step - loss: 0.0489 - acc: 0.9860 - val_loss: 0.0447 - val_acc: 0.9853\n",
      "Epoch 3/10\n",
      "1875/1875 [==============================] - 17s 9ms/step - loss: 0.0355 - acc: 0.9893 - val_loss: 0.0355 - val_acc: 0.9895\n",
      "Epoch 4/10\n",
      "1875/1875 [==============================] - 17s 9ms/step - loss: 0.0264 - acc: 0.9916 - val_loss: 0.0372 - val_acc: 0.9872\n",
      "Epoch 5/10\n",
      "1875/1875 [==============================] - 19s 10ms/step - loss: 0.0207 - acc: 0.9933 - val_loss: 0.3080 - val_acc: 0.9077\n",
      "Epoch 6/10\n",
      "1875/1875 [==============================] - 18s 10ms/step - loss: 0.0170 - acc: 0.9947 - val_loss: 0.0369 - val_acc: 0.9877\n",
      "Epoch 7/10\n",
      "1875/1875 [==============================] - 19s 10ms/step - loss: 0.0139 - acc: 0.9954 - val_loss: 0.0296 - val_acc: 0.9896\n",
      "Epoch 8/10\n",
      "1875/1875 [==============================] - 19s 10ms/step - loss: 0.0113 - acc: 0.9967 - val_loss: 0.0302 - val_acc: 0.9906\n",
      "Epoch 9/10\n",
      "1875/1875 [==============================] - 19s 10ms/step - loss: 0.0093 - acc: 0.9971 - val_loss: 0.0247 - val_acc: 0.9917\n",
      "Epoch 10/10\n",
      "1875/1875 [==============================] - 19s 10ms/step - loss: 0.0085 - acc: 0.9972 - val_loss: 0.0321 - val_acc: 0.9908\n"
     ]
    },
    {
     "data": {
      "text/plain": [
       "<keras.callbacks.History at 0x7f2724107a90>"
      ]
     },
     "execution_count": 8,
     "metadata": {},
     "output_type": "execute_result"
    }
   ],
   "source": [
    "model.fit_generator(\n",
    "    train_gen, steps_per_epoch=steps_per_epoch,\n",
    "    epochs=10, verbose=1,\n",
    "    validation_data=test_gen, validation_steps=validation_steps\n",
    ")"
   ]
  },
  {
   "cell_type": "code",
   "execution_count": 11,
   "metadata": {},
   "outputs": [],
   "source": [
    "if not os.path.exists('weights'):\n",
    "    os.makedirs('weights')\n",
    "    \n",
    "model.save_weights('weights/cnn.h5')"
   ]
  },
  {
   "cell_type": "code",
   "execution_count": 12,
   "metadata": {},
   "outputs": [
    {
     "name": "stdout",
     "output_type": "stream",
     "text": [
      "Test accuracy 0.9908\n"
     ]
    }
   ],
   "source": [
    "# Evaluate normal CNN\n",
    "val_loss, val_acc = model.evaluate_generator(\n",
    "    test_gen, steps=validation_steps\n",
    ")\n",
    "\n",
    "print('Test accuracy', val_acc)"
   ]
  },
  {
   "cell_type": "code",
   "execution_count": 13,
   "metadata": {},
   "outputs": [
    {
     "name": "stdout",
     "output_type": "stream",
     "text": [
      "Test accuracy with scaled images 0.6449\n"
     ]
    }
   ],
   "source": [
    "val_loss, val_acc = model.evaluate_generator(\n",
    "    test_scaled_gen, steps=validation_steps\n",
    ")\n",
    "print('Test accuracy with scaled images', val_acc)"
   ]
  },
  {
   "cell_type": "markdown",
   "metadata": {},
   "source": [
    "# Deformable CNN"
   ]
  },
  {
   "cell_type": "code",
   "execution_count": 19,
   "metadata": {},
   "outputs": [],
   "source": [
    "inputs, outputs = get_deform_cnn(trainable=False)\n",
    "deform_model = Model(inputs=inputs, outputs=outputs)\n",
    "deform_model.load_weights('weights/cnn.h5', by_name=True)"
   ]
  },
  {
   "cell_type": "code",
   "execution_count": 20,
   "metadata": {
    "scrolled": true
   },
   "outputs": [
    {
     "name": "stdout",
     "output_type": "stream",
     "text": [
      "_________________________________________________________________\n",
      "Layer (type)                 Output Shape              Param #   \n",
      "=================================================================\n",
      "input (InputLayer)           (None, 28, 28, 1)         0         \n",
      "_________________________________________________________________\n",
      "conv11 (Conv2D)              (None, 28, 28, 32)        320       \n",
      "_________________________________________________________________\n",
      "conv11_relu (Activation)     (None, 28, 28, 32)        0         \n",
      "_________________________________________________________________\n",
      "conv11_bn (BatchNormalizatio (None, 28, 28, 32)        128       \n",
      "_________________________________________________________________\n",
      "conv12_offset (ConvOffset2D) (None, 28, 28, 32)        18432     \n",
      "_________________________________________________________________\n",
      "conv12 (Conv2D)              (None, 14, 14, 64)        18496     \n",
      "_________________________________________________________________\n",
      "conv12_relu (Activation)     (None, 14, 14, 64)        0         \n",
      "_________________________________________________________________\n",
      "conv12_bn (BatchNormalizatio (None, 14, 14, 64)        256       \n",
      "_________________________________________________________________\n",
      "conv21_offset (ConvOffset2D) (None, 14, 14, 64)        73728     \n",
      "_________________________________________________________________\n",
      "conv21 (Conv2D)              (None, 14, 14, 128)       73856     \n",
      "_________________________________________________________________\n",
      "conv21_relu (Activation)     (None, 14, 14, 128)       0         \n",
      "_________________________________________________________________\n",
      "conv21_bn (BatchNormalizatio (None, 14, 14, 128)       512       \n",
      "_________________________________________________________________\n",
      "conv22_offset (ConvOffset2D) (None, 14, 14, 128)       294912    \n",
      "_________________________________________________________________\n",
      "conv22 (Conv2D)              (None, 7, 7, 128)         147584    \n",
      "_________________________________________________________________\n",
      "conv22_relu (Activation)     (None, 7, 7, 128)         0         \n",
      "_________________________________________________________________\n",
      "conv22_bn (BatchNormalizatio (None, 7, 7, 128)         512       \n",
      "_________________________________________________________________\n",
      "avg_pool (GlobalAveragePooli (None, 128)               0         \n",
      "_________________________________________________________________\n",
      "fc1 (Dense)                  (None, 10)                1290      \n",
      "_________________________________________________________________\n",
      "out (Activation)             (None, 10)                0         \n",
      "=================================================================\n",
      "Total params: 630,026\n",
      "Trainable params: 387,776\n",
      "Non-trainable params: 242,250\n",
      "_________________________________________________________________\n"
     ]
    }
   ],
   "source": [
    "deform_model.summary()"
   ]
  },
  {
   "cell_type": "code",
   "execution_count": 21,
   "metadata": {},
   "outputs": [],
   "source": [
    "optim = Adam(5e-4)\n",
    "loss = categorical_crossentropy\n",
    "deform_model.compile(optim, loss, metrics=['accuracy'])"
   ]
  },
  {
   "cell_type": "code",
   "execution_count": 22,
   "metadata": {},
   "outputs": [
    {
     "name": "stdout",
     "output_type": "stream",
     "text": [
      "Epoch 1/20\n",
      "1875/1875 [==============================] - 224s 120ms/step - loss: 0.5887 - acc: 0.8250 - val_loss: 0.3815 - val_acc: 0.8765\n",
      "Epoch 2/20\n",
      "1875/1875 [==============================] - 228s 121ms/step - loss: 0.3954 - acc: 0.8787 - val_loss: 0.3334 - val_acc: 0.8961\n",
      "Epoch 3/20\n",
      "1875/1875 [==============================] - 236s 126ms/step - loss: 0.3407 - acc: 0.8942 - val_loss: 0.2537 - val_acc: 0.9231\n",
      "Epoch 4/20\n",
      "1875/1875 [==============================] - 241s 128ms/step - loss: 0.3084 - acc: 0.9058 - val_loss: 0.2394 - val_acc: 0.9257\n",
      "Epoch 5/20\n",
      "1875/1875 [==============================] - 213s 114ms/step - loss: 0.2829 - acc: 0.9155 - val_loss: 0.2276 - val_acc: 0.9303\n",
      "Epoch 6/20\n",
      "1875/1875 [==============================] - 230s 122ms/step - loss: 0.2658 - acc: 0.9182 - val_loss: 0.2075 - val_acc: 0.9362\n",
      "Epoch 7/20\n",
      "1875/1875 [==============================] - 222s 118ms/step - loss: 0.2548 - acc: 0.9220 - val_loss: 0.1917 - val_acc: 0.9410\n",
      "Epoch 8/20\n",
      "1875/1875 [==============================] - 220s 117ms/step - loss: 0.2488 - acc: 0.9236 - val_loss: 0.1988 - val_acc: 0.9375\n",
      "Epoch 9/20\n",
      "1875/1875 [==============================] - 213s 114ms/step - loss: 0.2445 - acc: 0.9261 - val_loss: 0.1879 - val_acc: 0.9425\n",
      "Epoch 10/20\n",
      "1875/1875 [==============================] - 209s 112ms/step - loss: 0.2418 - acc: 0.9270 - val_loss: 0.2054 - val_acc: 0.9394\n",
      "Epoch 11/20\n",
      "1875/1875 [==============================] - 210s 112ms/step - loss: 0.2367 - acc: 0.9276 - val_loss: 0.1819 - val_acc: 0.9440\n",
      "Epoch 12/20\n",
      "1875/1875 [==============================] - 210s 112ms/step - loss: 0.2292 - acc: 0.9305 - val_loss: 0.1812 - val_acc: 0.9445\n",
      "Epoch 13/20\n",
      "1875/1875 [==============================] - 219s 117ms/step - loss: 0.2287 - acc: 0.9305 - val_loss: 0.1840 - val_acc: 0.9435\n",
      "Epoch 14/20\n",
      "1875/1875 [==============================] - 211s 112ms/step - loss: 0.2255 - acc: 0.9314 - val_loss: 0.1759 - val_acc: 0.9463\n",
      "Epoch 15/20\n",
      "1875/1875 [==============================] - 210s 112ms/step - loss: 0.2197 - acc: 0.9319 - val_loss: 0.1758 - val_acc: 0.9443\n",
      "Epoch 16/20\n",
      "1875/1875 [==============================] - 212s 113ms/step - loss: 0.2211 - acc: 0.9325 - val_loss: 0.1756 - val_acc: 0.9466\n",
      "Epoch 17/20\n",
      "1875/1875 [==============================] - 216s 115ms/step - loss: 0.2206 - acc: 0.9322 - val_loss: 0.1733 - val_acc: 0.9453\n",
      "Epoch 18/20\n",
      "1875/1875 [==============================] - 209s 112ms/step - loss: 0.2147 - acc: 0.9346 - val_loss: 0.1820 - val_acc: 0.9448\n",
      "Epoch 19/20\n",
      "1875/1875 [==============================] - 210s 112ms/step - loss: 0.2111 - acc: 0.9341 - val_loss: 0.1727 - val_acc: 0.9454\n",
      "Epoch 20/20\n",
      "1875/1875 [==============================] - 216s 115ms/step - loss: 0.2136 - acc: 0.9361 - val_loss: 0.1734 - val_acc: 0.9456\n"
     ]
    },
    {
     "data": {
      "text/plain": [
       "<keras.callbacks.History at 0x7f2683ed0048>"
      ]
     },
     "execution_count": 22,
     "metadata": {},
     "output_type": "execute_result"
    }
   ],
   "source": [
    "deform_model.fit_generator(\n",
    "    train_scaled_gen, steps_per_epoch=steps_per_epoch,\n",
    "    epochs=20, verbose=1,\n",
    "    validation_data=test_scaled_gen, validation_steps=validation_steps\n",
    ")"
   ]
  },
  {
   "cell_type": "code",
   "execution_count": 24,
   "metadata": {},
   "outputs": [],
   "source": [
    "deform_model.save_weights('weights/deform_cnn.h5')"
   ]
  },
  {
   "cell_type": "code",
   "execution_count": 26,
   "metadata": {},
   "outputs": [
    {
     "name": "stdout",
     "output_type": "stream",
     "text": [
      "Test accuracy of deformable convolution with scaled images 0.9425\n",
      "Test accuracy of deformable convolution with regular images 0.9759\n"
     ]
    }
   ],
   "source": [
    "val_loss, val_acc = deform_model.evaluate_generator(\n",
    "    test_scaled_gen, steps=validation_steps\n",
    ")\n",
    "print('Test accuracy of deformable convolution with scaled images', val_acc)\n",
    "\n",
    "val_loss, val_acc = deform_model.evaluate_generator(\n",
    "    test_gen, steps=validation_steps\n",
    ")\n",
    "print('Test accuracy of deformable convolution with regular images', val_acc)"
   ]
  }
 ],
 "metadata": {
  "kernelspec": {
   "display_name": "Python 3",
   "language": "python",
   "name": "python3"
  },
  "language_info": {
   "codemirror_mode": {
    "name": "ipython",
    "version": 3
   },
   "file_extension": ".py",
   "mimetype": "text/x-python",
   "name": "python",
   "nbconvert_exporter": "python",
   "pygments_lexer": "ipython3",
   "version": "3.6.10"
  }
 },
 "nbformat": 4,
 "nbformat_minor": 4
}
