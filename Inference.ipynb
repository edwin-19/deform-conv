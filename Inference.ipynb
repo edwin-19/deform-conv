{
 "cells": [
  {
   "cell_type": "code",
   "execution_count": 45,
   "metadata": {},
   "outputs": [],
   "source": [
    "from deform_conv.cnn import get_cnn, get_deform_cnn\n",
    "from deform_conv.mnist import get_gen\n",
    "\n",
    "import numpy as np \n",
    "import tensorflow as tf\n",
    "from matplotlib import pyplot as plt\n",
    "from keras.models import Model\n",
    "from keras import backend as K\n",
    "import cv2"
   ]
  },
  {
   "cell_type": "code",
   "execution_count": 22,
   "metadata": {},
   "outputs": [],
   "source": [
    "# Tensorflow config \n",
    "config = tf.ConfigProto()\n",
    "config.gpu_options.allow_growth = True\n",
    "sess = tf.Session(config=config)\n",
    "K.set_session(sess)"
   ]
  },
  {
   "cell_type": "code",
   "execution_count": 2,
   "metadata": {},
   "outputs": [],
   "source": [
    "batch_size = 32\n",
    "\n",
    "test_gen = get_gen(\n",
    "    'test', batch_size=batch_size,\n",
    "    scale=(1.0, 1.0), translate=0.0,\n",
    "    shuffle=False\n",
    ")\n",
    "\n",
    "test_scaled_gen = get_gen(\n",
    "    'test', batch_size=batch_size,\n",
    "    scale=(1.0, 2.5), translate=0.2,\n",
    "    shuffle=False\n",
    ")"
   ]
  },
  {
   "cell_type": "code",
   "execution_count": 3,
   "metadata": {},
   "outputs": [
    {
     "name": "stdout",
     "output_type": "stream",
     "text": [
      "WARNING:tensorflow:From /home/wise/.conda/envs/py36tf13/lib/python3.6/site-packages/tensorflow/python/framework/op_def_library.py:263: colocate_with (from tensorflow.python.framework.ops) is deprecated and will be removed in a future version.\n",
      "Instructions for updating:\n",
      "Colocations handled automatically by placer.\n"
     ]
    }
   ],
   "source": [
    "inputs, outputs = get_cnn()\n",
    "model = Model(inputs=inputs, outputs=outputs)\n",
    "\n",
    "model.load_weights('weights/cnn.h5')"
   ]
  },
  {
   "cell_type": "code",
   "execution_count": 23,
   "metadata": {},
   "outputs": [],
   "source": [
    "inputs, outputs = get_deform_cnn(trainable=False)\n",
    "deform_model = Model(inputs=inputs, outputs=outputs)\n",
    "deform_model.load_weights('weights/deform_cnn.h5')"
   ]
  },
  {
   "cell_type": "code",
   "execution_count": 51,
   "metadata": {},
   "outputs": [],
   "source": [
    "for i in range(6):\n",
    "    img = test_gen.next()[0][0]\n",
    "    show_img = np.squeeze(img)\n",
    "\n",
    "    predicted = deform_model.predict(np.expand_dims(img, axis=0))\n",
    "    predict_num = str(np.argmax(predicted))\n",
    "    \n",
    "    cv2.imshow(predict_num, show_img)\n",
    "    cv2.waitKey(0)\n",
    "    cv2.destroyAllWindows()"
   ]
  }
 ],
 "metadata": {
  "kernelspec": {
   "display_name": "Python 3",
   "language": "python",
   "name": "python3"
  },
  "language_info": {
   "codemirror_mode": {
    "name": "ipython",
    "version": 3
   },
   "file_extension": ".py",
   "mimetype": "text/x-python",
   "name": "python",
   "nbconvert_exporter": "python",
   "pygments_lexer": "ipython3",
   "version": "3.6.10"
  }
 },
 "nbformat": 4,
 "nbformat_minor": 4
}
